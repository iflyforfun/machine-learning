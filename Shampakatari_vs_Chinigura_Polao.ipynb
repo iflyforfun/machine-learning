{
  "cells": [
    {
      "cell_type": "code",
      "execution_count": null,
      "metadata": {
        "id": "q3Kfvpnq75Ua"
      },
      "outputs": [],
      "source": [
        "from google.colab import drive\n",
        "drive.mount(\"/content/gdrive\",force_remount=True)"
      ]
    },
    {
      "cell_type": "code",
      "source": [
        "%cd\n",
        "from google.colab import files\n",
        "\n",
        "uploaded=files.upload()\n",
        "!cp kaggle.json ~/.kaggle/\n",
        "%cd /content/gdrive/MyDrive/Colab Notebooks/S202 Hackathon\n",
        "!kaggle datasets download -d abrahametry/aruzz22-5k-an-image-dataset-of-rice-varieties\n",
        "!unzip dataset.zip"
      ],
      "metadata": {
        "id": "sOzKDA4sBDTY"
      },
      "execution_count": null,
      "outputs": []
    },
    {
      "cell_type": "code",
      "execution_count": null,
      "metadata": {
        "colab": {
          "base_uri": "https://localhost:8080/"
        },
        "id": "4qmrDEwNAR2s",
        "outputId": "e3557f2a-171d-4d35-f1a8-bcc18236a042"
      },
      "outputs": [
        {
          "output_type": "stream",
          "name": "stdout",
          "text": [
            "/content/gdrive/MyDrive/Colab Notebooks/S202 Hackathon\n"
          ]
        }
      ],
      "source": [
        "%cd /content/gdrive/MyDrive/Colab Notebooks/S202 Hackathon\n"
      ]
    },
    {
      "cell_type": "code",
      "execution_count": null,
      "metadata": {
        "id": "NahpbTzMAUe7"
      },
      "outputs": [],
      "source": [
        "!unzip dataset.zip"
      ]
    },
    {
      "cell_type": "code",
      "execution_count": null,
      "metadata": {
        "id": "I0FblPWbA3Eg"
      },
      "outputs": [],
      "source": [
        "!gsutil -m cp -r \"/content/gdrive/MyDrive/Colab Notebooks/S202 Hackathon/1_TRAIN\" /content\n",
        "!gsutil -m cp -r \"/content/gdrive/MyDrive/Colab Notebooks/S202 Hackathon/2_VALID\" /content"
      ]
    },
    {
      "cell_type": "code",
      "execution_count": null,
      "metadata": {
        "id": "g2ePd_sKDZqd"
      },
      "outputs": [],
      "source": [
        "import random\n",
        "train_dir = '/content/1_TRAIN/'\n",
        "test_dir = '/content/2_VALID/'\n",
        "\n",
        "train_shamp = ['/content/1_TRAIN/4_Shampakatari/ShompaKatari_4_{:04d}.jpg'.format(i) for i in range(1,1101)]\n",
        "train_chini = ['/content/1_TRAIN/17_Chinigura_Polao/ChiniguraPolao_17_{:04d}.jpg'.format(i) for i in range(1,1101)]\n",
        "valid_shamp = ['/content/2_VALID/4_Shampakatari/ShompaKatari_4_{:03d}.jpg'.format(i) for i in range(1,201)]\n",
        "valid_chini = ['/content/2_VALID/17_Chinigura_Polao/ChiniguraPolao_17_{:03d}.jpg'.format(i) for i in range(1,201)]\n",
        "\n",
        "# take first 2000 images of train_dogs and train_cats for training images\n",
        "train_imgs = train_shamp[:1100] + train_chini[:1100]\n",
        "valid_imgs = valid_shamp[:200] + valid_chini[:200]\n",
        "random.shuffle(train_imgs)\n",
        "random.shuffle(valid_imgs)"
      ]
    },
    {
      "cell_type": "code",
      "execution_count": null,
      "metadata": {
        "id": "sXgE1QvyFdwU"
      },
      "outputs": [],
      "source": [
        "%cd /content\n",
        "\n",
        "import os\n",
        "path = os.getcwd()\n",
        "print (\"Train shampa directory count:\", len([name for name in os.listdir(path+'/1_TRAIN/4_Shampakatari')]))\n",
        "print (\"Train Chini directory count:\", len([name for name in os.listdir(path+'/1_TRAIN/17_Chinigura_Polao')]))\n",
        "print (\"Test shampa directory count:\", len([name for name in os.listdir(path+'/2_VALID/4_Shampakatari')]))\n",
        "print (\"Test Chini directory count:\", len([name for name in os.listdir(path+'/2_VALID/17_Chinigura_Polao')]))"
      ]
    },
    {
      "cell_type": "code",
      "execution_count": null,
      "metadata": {
        "id": "DjnPlwLmGVjk",
        "collapsed": true
      },
      "outputs": [],
      "source": [
        "import matplotlib.image as mpimg\n",
        "import matplotlib.pyplot as plt\n",
        "for image in train_imgs[0:3]:\n",
        "    image = mpimg.imread(image)\n",
        "    imgplot = plt.imshow(image)\n",
        "    plt.show()"
      ]
    },
    {
      "cell_type": "code",
      "execution_count": null,
      "metadata": {
        "id": "rur9S3rIGZOM"
      },
      "outputs": [],
      "source": [
        "import cv2\n",
        "\n",
        "nrows = 150\n",
        "ncols = 150\n",
        "channels = 3\n",
        "\n",
        "def readAndProcessImage(imageList):\n",
        "    a,b=0,0\n",
        "    x = []\n",
        "    y = []\n",
        "    index = 1\n",
        "    for image in imageList:\n",
        "        index += 1\n",
        "        try:\n",
        "            x.append(cv2.resize(cv2.imread(image,cv2.IMREAD_COLOR),(nrows,ncols),interpolation=cv2.INTER_CUBIC))\n",
        "            if 'Shampa' in image:\n",
        "                y.append(1)\n",
        "                a+= 1\n",
        "            elif 'Chini' in image:\n",
        "                b+=1\n",
        "                y.append(0)\n",
        "        except Exception as e:\n",
        "            print(str(e))\n",
        "\n",
        "    return x,y,a,b\n",
        "x, y,a,b= readAndProcessImage(train_imgs)\n",
        "xv, yv,av,bv= readAndProcessImage(valid_imgs)\n",
        "print(f\"{a} {b} | {av} {bv}\")"
      ]
    },
    {
      "cell_type": "code",
      "execution_count": null,
      "metadata": {
        "id": "4OGioTP0J_Z2"
      },
      "outputs": [],
      "source": [
        "import pickle\n",
        "\n",
        "path = \"/content/gdrive/MyDrive/Colab Notebooks/S202 Hackathon/\"\n",
        "\n",
        "# To save\n",
        "f = open(path + \"processedimages.pickle\",\"wb\")\n",
        "pickle.dump([x,y],f)\n",
        "f.close()\n",
        "f = open(path + \"processedimages_valid.pickle\",\"wb\")\n",
        "pickle.dump([xv,yv],f)\n",
        "f.close()"
      ]
    },
    {
      "cell_type": "code",
      "execution_count": null,
      "metadata": {
        "id": "BWy_YWaYLhvX"
      },
      "outputs": [],
      "source": [
        "# To load\n",
        "f = open(path + \"processedimages.pickle\",\"rb\")\n",
        "data = pickle.load(f)\n",
        "f.close()\n",
        "x = data[0]\n",
        "y = data[1]\n",
        "print(x[0])\n",
        "print(y[0])\n",
        "\n",
        "import matplotlib.pyplot as plt\n",
        "import seaborn as sns\n",
        "import numpy as np\n",
        "\n",
        "x=np.array(x)\n",
        "y=np.array(y)\n",
        "sns.countplot(x = y)\n",
        "plt.title('Labels for Shampakatari and Chinigura Polao')"
      ]
    },
    {
      "cell_type": "code",
      "execution_count": null,
      "metadata": {
        "id": "akgo--fHLqo6"
      },
      "outputs": [],
      "source": [
        "import pickle\n",
        "import numpy as np\n",
        "\n",
        "# To load\n",
        "path = \"/content/gdrive/MyDrive/Colab Notebooks/S202 Hackathon/\"\n",
        "f = open(path + \"processedimages.pickle\",\"rb\")\n",
        "data = pickle.load(f)\n",
        "f.close()\n",
        "f = open(path + \"processedimages_valid.pickle\",\"rb\")\n",
        "data_v = pickle.load(f)\n",
        "f.close()\n",
        "x = data[0]\n",
        "y = data[1]\n",
        "x_v = data_v[0]\n",
        "y_v = data_v[1]\n",
        "x_arr = np.array(x+x_v)\n",
        "y_arr = np.array(y+y_v)\n",
        "t_size = ((len(x_v)/(len(x)+len(x_v))) + (len(y_v)/(len(y)+len(y_v))))/2\n",
        "\n",
        "\n",
        "# Splitting\n",
        "from sklearn.model_selection import train_test_split\n",
        "x_train, x_val, y_train, y_val = train_test_split(x_arr,y_arr,test_size = t_size, random_state = 2)\n",
        "\n",
        "# 20% to validation set, 80% to train set\n",
        "print(x_train.shape)\n",
        "print(x_val.shape)\n",
        "print(y_train.shape)\n",
        "print(y_val.shape)\n",
        "\n",
        "# Obtain length of training set and validation set (should be 3200 and 800 respectively)\n",
        "ntrain = len(x_train) if len(x_train) <= len(y_train) else len(y_train)\n",
        "nval = len(x_val) if len(x_val) <= len(y_val) else len(y_val)\n",
        "\n",
        "# Specify batch size (number of training examples used in one iteration)\n",
        "batch_size = 1\n",
        "\n",
        "# MODEL TIME!\n",
        "from keras import layers\n",
        "from keras import models\n",
        "from keras import optimizers\n",
        "from keras.preprocessing.image import ImageDataGenerator\n",
        "from tensorflow.keras.utils import img_to_array, load_img\n",
        "\n",
        "model = models.Sequential()\n",
        "\n",
        "# Multiple convolutional layers allow for hierarchical representations of your images\n",
        "# E.g. Layer 1 learns the edges, Layer 2 is more abstract and learns the shapes form by the edges\n",
        "# ... Layer 5 might be abstract enough to differentiate faces\n",
        "\n",
        "# Pooling after each Convolution allows us to ignore where the features are on the image\n",
        "# Furthermore, more EFFICIENT and FASTER models!\n",
        "\n",
        "model.add(layers.Conv2D(32,(3,3),activation = 'relu',input_shape = (150,150,3)))\n",
        "model.add(layers.MaxPooling2D(2,2))\n",
        "model.add(layers.Conv2D(64,(3,3),activation = 'relu'))\n",
        "model.add(layers.MaxPooling2D(2,2))\n",
        "model.add(layers.Conv2D(128,(3,3),activation = 'relu'))\n",
        "model.add(layers.MaxPooling2D(2,2))\n",
        "model.add(layers.Conv2D(128,(3,3),activation = 'relu'))\n",
        "model.add(layers.MaxPooling2D(2,2))\n",
        "\n",
        "# Converts our multi-dimensional arrays into one-dimensional arrays\n",
        "model.add(layers.Flatten())\n",
        "\n",
        "# Prevents overfitting by ignoring certain inputs\n",
        "# Visual explanation: https://miro.medium.com/v2/resize:fit:1210/1*wDGvx0z0-nEB8zQHykvwPw.png\n",
        "model.add(layers.Dropout(0.5))\n",
        "\n",
        "# Dense layers are used to classify images\n",
        "# relu sets any negative value to 0, leading to values of only 0 to a positive number, speeding up training\n",
        "# sigmoid sets the output to be bounded from only 0 to 1, from relu's previously 0 to a positive number\n",
        "# The final output being a range from 0 to 1 is suitable for our binary classification of cats and dogs\n",
        "model.add(layers.Dense(512, activation = 'relu'))\n",
        "model.add(layers.Dense(1,activation = 'sigmoid'))\n",
        "\n",
        "model.summary()"
      ]
    },
    {
      "cell_type": "code",
      "execution_count": null,
      "metadata": {
        "id": "xjqPCaRbMIGN"
      },
      "outputs": [],
      "source": [
        "\n",
        "# Binary Cross Entropy Loss: tracks incorrect labeling of the data class by a model,\n",
        "# It penalise the model if deviations in probability occur into classifying the labels\n",
        "# Low loss results in high accuracy in the model\n",
        "\n",
        "# 1e-4 = 0.0001\n",
        "model.compile(loss = 'binary_crossentropy',\n",
        "              optimizer = optimizers.RMSprop(learning_rate=1e-4),metrics=['acc'])\n",
        "\n",
        "# The ImageDataGenerator() class takes our original images to create new transformed images\n",
        "# The variations of the original images at each epoch will further train our model to recognise better\n",
        "\n",
        "train_datagen = ImageDataGenerator(rescale = 1./255, rotation_range = 40, width_shift_range = 0.2,\n",
        "                                   height_shift_range = 0.2, shear_range = 0.2, zoom_range = 0.2,\n",
        "                                   horizontal_flip = True)\n",
        "val_datagen = ImageDataGenerator(rescale = 1./255, rotation_range = 40, width_shift_range = 0.2,\n",
        "                                   height_shift_range = 0.2, shear_range = 0.2, zoom_range = 0.2,\n",
        "                                   horizontal_flip = True)\n",
        "# Use the Image Data Generator using flow()\n",
        "\n",
        "train_generator = train_datagen.flow(x_train,y_train,batch_size = batch_size)\n",
        "val_generator = val_datagen.flow(x_val,y_val,batch_size = batch_size)\n",
        "\n",
        "# 8 epochs for now as a basic model. Lesser epochs usually might signify incomplete learning\n",
        "# Always check the validation and training loss. If they stop dropping, you can stop further epochs\n",
        "\n",
        "history = model.fit(train_generator, steps_per_epoch = ntrain//batch_size, epochs = 2,\n",
        "                              validation_data = val_generator,\n",
        "                              validation_steps = nval//batch_size)\n",
        "#Save the model\n",
        "%cd /content/gdrive/MyDrive/Colab Notebooks/S202 Hackathon\n",
        "model.save_weights('model_weights.keras')\n",
        "model.save('model_keras.keras')\n",
        "\n",
        "from keras.models import load_model\n",
        "\n",
        "# load model\n",
        "model = load_model('model_keras.keras')\n",
        "model.load_weights('model_weights.keras')\n",
        "\n",
        "# summarize model.\n",
        "model.summary()"
      ]
    },
    {
      "cell_type": "code",
      "source": [],
      "metadata": {
        "id": "l-Veosw6J6Yn"
      },
      "execution_count": null,
      "outputs": []
    },
    {
      "cell_type": "code",
      "execution_count": null,
      "metadata": {
        "id": "2S0yoOrrNrY8"
      },
      "outputs": [],
      "source": [
        "import cv2\n",
        "import numpy as np\n",
        "from keras.preprocessing.image import ImageDataGenerator\n",
        "import matplotlib.pyplot as plt\n",
        "import numpy as np\n",
        "def readAndProcessImage(imageList):\n",
        "    s = 0\n",
        "    c = 0\n",
        "    x = []\n",
        "    y = []\n",
        "    index = 1\n",
        "    for image in imageList:\n",
        "        index += 1\n",
        "        try:\n",
        "            x.append(cv2.resize(cv2.imread(image,cv2.IMREAD_COLOR),(nrows,ncols),interpolation=cv2.INTER_CUBIC))\n",
        "            if 'Sham' in image:\n",
        "                s += 1\n",
        "                y.append(1)\n",
        "            elif 'Chin' in image:\n",
        "                c += 1\n",
        "                y.append(0)\n",
        "        except Exception as e:\n",
        "            print(str(e))\n",
        "    return x,y,s,c\n",
        "\n",
        "# Using 25 dogs and 25 cats from a test data set\n",
        "dataset_S = [\"/content/gdrive/MyDrive/Colab Notebooks/S202 Hackathon/1_TRAIN/4_Shampakatari/ShompaKatari_4_{:04d}.jpg\".format(i) for i in range(100,126)]\n",
        "dataset_C = [\"/content/gdrive/MyDrive/Colab Notebooks/S202 Hackathon/1_TRAIN/17_Chinigura_Polao/ChiniguraPolao_17_{:04d}.jpg\".format(i) for i in range(100,125)]\n",
        "dataset = dataset_S + dataset_C\n",
        "x_test,y_test,s,c = readAndProcessImage(dataset)\n",
        "print(s)\n",
        "print(c)"
      ]
    },
    {
      "cell_type": "code",
      "source": [
        "x = np.array(x_test)\n",
        "test_datagen = ImageDataGenerator(rescale = 1./255)\n",
        "i = 0\n",
        "text_labels = []\n",
        "prediction = []\n",
        "import matplotlib.pyplot as plt\n",
        "plt.figure(figsize=(30,40))\n",
        "for batch in test_datagen.flow(x,batch_size = 1):\n",
        "    pred = model.predict(batch)\n",
        "    if pred > 0.5:\n",
        "        text_labels.append('Shampakatari')\n",
        "        prediction.append(1)\n",
        "    else:\n",
        "        text_labels.append('Chinigura')\n",
        "        prediction.append(0)\n",
        "    i += 1\n",
        "    if i % 50 == 0:\n",
        "        break"
      ],
      "metadata": {
        "id": "8MIry-E8jb1F"
      },
      "execution_count": null,
      "outputs": []
    },
    {
      "cell_type": "code",
      "source": [
        "import numpy as np\n",
        "from sklearn.metrics import confusion_matrix\n",
        "import seaborn as sns\n",
        "import matplotlib.pyplot as plt\n",
        "\n",
        "# Actual labels\n",
        "print(y_test)\n",
        "\n",
        "# Predicted labels\n",
        "print(prediction)\n",
        "\n",
        "#Create the NumPy array for actual and predicted labels.\n",
        "actual    = np.array(y_test)\n",
        "predicted = np.array(prediction)\n",
        "\n",
        "#compute the confusion matrix.\n",
        "cm = confusion_matrix(actual,predicted)\n",
        "print(cm)\n",
        "\n",
        "annotCM = [[\"True Positive\\nCount: %d\" %(cm[0][0]),\"False Positive\\nCount: %d\" %(cm[0][1])],\n",
        "           [\"False Negative\\nCount: %d\" %(cm[1][0]),\"True Negative\\nCount: %d\" %(cm[1][1])]]\n",
        "\n",
        "#Plot the confusion matrix.\n",
        "sns.heatmap(cm,\n",
        "            annot=annotCM,\n",
        "            fmt='',\n",
        "            xticklabels=['Shampa','Not Shampa'],\n",
        "            yticklabels=['Chini','Not Chini'])\n",
        "plt.ylabel('Prediction',fontsize=13)\n",
        "plt.xlabel('Actual',fontsize=13)\n",
        "plt.title('Confusion Matrix',fontsize=17)\n",
        "plt.show()"
      ],
      "metadata": {
        "id": "rZS3AtUKdNk4",
        "colab": {
          "base_uri": "https://localhost:8080/",
          "height": 570
        },
        "outputId": "487de6b2-1546-4451-c310-fcd7e2e712d8"
      },
      "execution_count": null,
      "outputs": [
        {
          "output_type": "stream",
          "name": "stdout",
          "text": [
            "[1, 1, 1, 1, 1, 1, 1, 1, 1, 1, 1, 1, 1, 1, 1, 1, 1, 1, 1, 1, 1, 1, 1, 1, 1, 0, 0, 0, 0, 0, 0, 0, 0, 0, 0, 0, 0, 0, 0, 0, 0, 0, 0, 0, 0, 0, 0, 0, 0, 0]\n",
            "[1, 0, 0, 1, 0, 1, 0, 0, 0, 0, 0, 1, 1, 0, 1, 0, 0, 0, 0, 0, 1, 1, 0, 1, 0, 1, 0, 1, 1, 1, 1, 0, 1, 0, 0, 1, 1, 1, 1, 1, 0, 0, 1, 0, 0, 1, 1, 1, 1, 0]\n",
            "[[ 9 16]\n",
            " [16  9]]\n"
          ]
        },
        {
          "output_type": "display_data",
          "data": {
            "text/plain": [
              "<Figure size 640x480 with 2 Axes>"
            ],
            "image/png": "[encoded data removed]"
          },
          "metadata": {}
        }
      ]
    }
  ],
  "metadata": {
    "accelerator": "GPU",
    "colab": {
      "gpuType": "T4",
      "provenance": [],
      "authorship_tag": "ABX9TyP884NfaGtzZcOMKfuZpP7C"
    },
    "kernelspec": {
      "display_name": "Python 3",
      "name": "python3"
    },
    "language_info": {
      "name": "python"
    }
  },
  "nbformat": 4,
  "nbformat_minor": 0
}